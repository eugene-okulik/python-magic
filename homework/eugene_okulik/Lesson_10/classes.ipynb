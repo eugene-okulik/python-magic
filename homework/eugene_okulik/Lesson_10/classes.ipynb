{
 "cells": [
  {
   "cell_type": "markdown",
   "metadata": {},
   "source": [
    "# Classes"
   ]
  },
  {
   "cell_type": "code",
   "execution_count": 19,
   "metadata": {},
   "outputs": [],
   "source": [
    "from abc import abstractmethod\n",
    "\n",
    "class Group:\n",
    "    pupils = True\n",
    "    school_name = '42'\n",
    "    director = 'Marivanna'\n",
    "\n",
    "    def __init__(self, title, pupils_count, group_leader):\n",
    "        self.title = title\n",
    "        self.pupils_count = pupils_count\n",
    "        self.leader = group_leader\n",
    "        self.size = self.large_or_not()\n",
    "\n",
    "    def large_or_not(self):\n",
    "        if self.pupils_count > 15:\n",
    "            return 'large'\n",
    "        else:\n",
    "            return 'small'\n",
    "\n",
    "    @abstractmethod    \n",
    "    def move(self):\n",
    "        pass\n",
    "        \n",
    "\n",
    "\n",
    "class PrimaryGroup(Group):\n",
    "    max_age = 11\n",
    "    min_age = 6\n",
    "    building_section = 'left'\n",
    "\n",
    "    def __init__(self, title, pupils_count, group_leader, classroom):\n",
    "        super().__init__(title, pupils_count, group_leader)\n",
    "        self.classroom = classroom\n",
    "\n",
    "    def move(self):\n",
    "        print('run fast')\n",
    "\n",
    "\n",
    "\n",
    "class HighGroup(Group):\n",
    "    max_age = 18\n",
    "    min_age = 14\n",
    "\n",
    "    def move(self):\n",
    "        print('go slowly')\n"
   ]
  },
  {
   "cell_type": "markdown",
   "metadata": {},
   "source": [
    "объект класса = объект типа = представитель класса = экземпляр класса"
   ]
  },
  {
   "cell_type": "code",
   "execution_count": 22,
   "metadata": {},
   "outputs": [
    {
     "name": "stdout",
     "output_type": "stream",
     "text": [
      "11\n",
      "101\n",
      "1 A\n",
      "FF\n",
      "11\n",
      "2 Б\n",
      "AS\n",
      "15\n",
      "17\n",
      "small\n",
      "large\n",
      "large\n",
      "Marivanna\n",
      "42\n"
     ]
    }
   ],
   "source": [
    "first_a = PrimaryGroup('1 A', 15, 'FF', 101)\n",
    "second_b = PrimaryGroup('2 Б', 17, 'AS', 102)\n",
    "eleven_a = HighGroup('11 A', 16, 'LI')\n",
    "\n",
    "print(first_a.max_age)\n",
    "print(first_a.classroom)\n",
    "print(first_a.title)\n",
    "print(first_a.leader)\n",
    "print(second_b.max_age)\n",
    "print(second_b.title)\n",
    "print(second_b.leader)\n",
    "print(first_a.pupils_count)\n",
    "print(second_b.pupils_count)\n",
    "# print(first_a.large_or_not())\n",
    "# print(second_b.large_or_not())\n",
    "# print(eleven_a.large_or_not())\n",
    "print(first_a.size)\n",
    "print(second_b.size)\n",
    "print(eleven_a.size)\n",
    "print(second_b.director)\n",
    "print(eleven_a.school_name)"
   ]
  }
 ],
 "metadata": {
  "kernelspec": {
   "display_name": "Python 3",
   "language": "python",
   "name": "python3"
  },
  "language_info": {
   "codemirror_mode": {
    "name": "ipython",
    "version": 3
   },
   "file_extension": ".py",
   "mimetype": "text/x-python",
   "name": "python",
   "nbconvert_exporter": "python",
   "pygments_lexer": "ipython3",
   "version": "3.10.12"
  },
  "orig_nbformat": 4
 },
 "nbformat": 4,
 "nbformat_minor": 2
}
