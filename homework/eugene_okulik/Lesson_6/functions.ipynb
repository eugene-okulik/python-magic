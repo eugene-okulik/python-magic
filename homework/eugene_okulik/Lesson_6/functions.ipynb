{
 "cells": [
  {
   "cell_type": "markdown",
   "metadata": {},
   "source": [
    "# Functions"
   ]
  },
  {
   "cell_type": "markdown",
   "metadata": {},
   "source": [
    "Это самые основные программные структуры в языке Python, позволяющие многократное использование программного кода и уменьшающие его избыточность. Так же позволяют разбить сложную систему на достаточно простые и легко управляемые части. Они могут принимать аргументы и возвращать результаты выполнения."
   ]
  },
  {
   "cell_type": "code",
   "execution_count": null,
   "metadata": {},
   "outputs": [],
   "source": [
    "a = 1\n",
    "b = 5\n",
    "c = 4\n",
    "d = 7\n",
    "y = 5\n",
    "\n",
    "\n",
    "main_numb = 47\n",
    "\n",
    "if y == 0:\n",
    "    print(a)\n",
    "else:\n",
    "    print(a + main_numb)\n",
    "if y == 0:\n",
    "    print(b)\n",
    "else:\n",
    "    print(b + main_numb)\n",
    "if y == 0:\n",
    "    print(c)\n",
    "else:\n",
    "    print(c + main_numb)\n",
    "if y == 0:\n",
    "    print(d)\n",
    "else:\n",
    "    print(d + main_numb)\n",
    "if y == 0:\n",
    "    print(y)\n",
    "else:\n",
    "    print(y + main_numb)"
   ]
  },
  {
   "cell_type": "markdown",
   "metadata": {},
   "source": [
    "DRY - don't repeat yourself"
   ]
  },
  {
   "cell_type": "code",
   "execution_count": 2,
   "metadata": {},
   "outputs": [
    {
     "name": "stdout",
     "output_type": "stream",
     "text": [
      "48\n",
      "52\n",
      "51\n",
      "54\n",
      "0\n"
     ]
    }
   ],
   "source": [
    "a = 1\n",
    "b = 5\n",
    "c = 4\n",
    "d = 7\n",
    "y = 0\n",
    "\n",
    "\n",
    "main_numb = 47\n",
    "\n",
    "def calc(numb):\n",
    "    if numb == 0:\n",
    "        print(numb)\n",
    "    else:\n",
    "        print(numb + main_numb)\n",
    "\n",
    "calc(a)\n",
    "calc(b)\n",
    "calc(c)\n",
    "calc(d)\n",
    "calc(y)"
   ]
  },
  {
   "cell_type": "code",
   "execution_count": 20,
   "metadata": {},
   "outputs": [
    {
     "name": "stdout",
     "output_type": "stream",
     "text": [
      "Numb is 1\n",
      "48\n",
      "Case with 0 number happened\n",
      "0\n"
     ]
    }
   ],
   "source": [
    "a = 1\n",
    "b = 5\n",
    "c = 4\n",
    "d = 7\n",
    "y = 0\n",
    "\n",
    "\n",
    "main_numb = 47\n",
    "\n",
    "def calc(numb):\n",
    "    if numb == 0:\n",
    "        result = numb\n",
    "        print('Case with 0 number happened')\n",
    "    else:\n",
    "        result = numb + main_numb\n",
    "        print(f'Numb is {numb}')\n",
    "    return result\n",
    "\n",
    "sum_a = calc(a)\n",
    "print(sum_a)\n",
    "print(calc(y))\n",
    "sum_b = 42"
   ]
  },
  {
   "cell_type": "code",
   "execution_count": 21,
   "metadata": {},
   "outputs": [
    {
     "name": "stdout",
     "output_type": "stream",
     "text": [
      "Hello!\n",
      "48\n",
      "42\n"
     ]
    }
   ],
   "source": [
    "hello()\n",
    "\n",
    "def hello():\n",
    "    print('Hello!')\n",
    "\n",
    "\n",
    "print(sum_a)\n",
    "print(sum_b)"
   ]
  },
  {
   "cell_type": "code",
   "execution_count": 27,
   "metadata": {},
   "outputs": [
    {
     "name": "stdout",
     "output_type": "stream",
     "text": [
      "The first word is one, second word is two, three, four, five\n"
     ]
    }
   ],
   "source": [
    "def print_words(first, second, third, fourth, fifth):\n",
    "    print(f'The first word is {first}, second word is {second}, {third}, {fourth}, {fifth}')\n",
    "\n",
    "print_words(fifth='five', first='one', second='two', third='three', fourth='four')"
   ]
  },
  {
   "cell_type": "code",
   "execution_count": 29,
   "metadata": {},
   "outputs": [
    {
     "name": "stdout",
     "output_type": "stream",
     "text": [
      "8\n",
      "4\n"
     ]
    }
   ],
   "source": [
    "def power(numb, degree=2):\n",
    "    return numb ** degree\n",
    "\n",
    "print(power(2, 3))\n",
    "print(power(2))"
   ]
  },
  {
   "cell_type": "code",
   "execution_count": 35,
   "metadata": {},
   "outputs": [
    {
     "name": "stdout",
     "output_type": "stream",
     "text": [
      "2 5 6 one 8\n"
     ]
    }
   ],
   "source": [
    "def example(e, f, g, ff='one', gg='two'):\n",
    "    print(e, f, g, ff, gg)\n",
    "\n",
    "example(2, 5, 6, gg=8)"
   ]
  },
  {
   "cell_type": "code",
   "execution_count": 36,
   "metadata": {},
   "outputs": [
    {
     "name": "stdout",
     "output_type": "stream",
     "text": [
      "string\n",
      "one two three infinity\n"
     ]
    }
   ],
   "source": [
    "print('string')\n",
    "print('one', 'two', 'three', 'infinity')\n",
    "\n",
    "def print(word):\n",
    "    ...\n",
    "\n",
    "def print(word1, word2, word3, word4):\n",
    "    ..."
   ]
  },
  {
   "cell_type": "code",
   "execution_count": 47,
   "metadata": {},
   "outputs": [
    {
     "name": "stdout",
     "output_type": "stream",
     "text": [
      "(1, 2, 3, 4, 5)\n",
      "15\n"
     ]
    }
   ],
   "source": [
    "def sum_all(*args):\n",
    "    print(args)\n",
    "    # result = 0\n",
    "    # for numb in args:\n",
    "    #     result += numb\n",
    "    print(sum(args))\n",
    "\n",
    "sum_all(1, 2, 3, 4, 5)\n",
    "# print(sum_all(1, 2, 3))"
   ]
  },
  {
   "cell_type": "code",
   "execution_count": 53,
   "metadata": {},
   "outputs": [
    {
     "name": "stdout",
     "output_type": "stream",
     "text": [
      "Product iphone price is 2500\n",
      "Product laptop price is 1000\n"
     ]
    }
   ],
   "source": [
    "def price_list(title, price):\n",
    "    print(f'Product {title} price is {price}')\n",
    "\n",
    "price_list('iphone', 2500)\n",
    "price_list('laptop', 1000)"
   ]
  },
  {
   "cell_type": "code",
   "execution_count": 57,
   "metadata": {},
   "outputs": [
    {
     "name": "stdout",
     "output_type": "stream",
     "text": [
      "{'iphone': 2500, 'laptop': 1000, 'tablet': 500}\n",
      "Product iphone price is 2500\n",
      "Product laptop price is 1000\n",
      "Product tablet price is 500\n"
     ]
    }
   ],
   "source": [
    "def price_list(**kwargs):\n",
    "    print(kwargs)\n",
    "    for title, price in kwargs.items():\n",
    "        print(f'Product {title} price is {price}')\n",
    "\n",
    "price_list(iphone=2500, laptop=1000, tablet=500)"
   ]
  },
  {
   "cell_type": "markdown",
   "metadata": {},
   "source": [
    "### Области видимости (variable scope)\n",
    "Функция создает локальную область видимости (local scope)"
   ]
  },
  {
   "cell_type": "code",
   "execution_count": 59,
   "metadata": {},
   "outputs": [
    {
     "name": "stdout",
     "output_type": "stream",
     "text": [
      "12\n"
     ]
    },
    {
     "data": {
      "text/plain": [
       "'hello'"
      ]
     },
     "execution_count": 59,
     "metadata": {},
     "output_type": "execute_result"
    }
   ],
   "source": [
    "def my_func():\n",
    "    unique = 12\n",
    "    print(unique)\n",
    "    return 'hello'\n",
    "\n",
    "my_func()\n",
    "# print(unique)"
   ]
  },
  {
   "cell_type": "code",
   "execution_count": 61,
   "metadata": {},
   "outputs": [
    {
     "name": "stdout",
     "output_type": "stream",
     "text": [
      "23\n"
     ]
    }
   ],
   "source": [
    "initial = 23\n",
    "\n",
    "def my_func(initial):\n",
    "    initial += 34\n",
    "\n",
    "my_func(initial)\n",
    "print(initial)"
   ]
  },
  {
   "cell_type": "code",
   "execution_count": null,
   "metadata": {},
   "outputs": [],
   "source": [
    "initial = 23\n",
    "\n",
    "def my_func(var):\n",
    "    var += 34\n",
    "\n",
    "my_func(initial)\n",
    "print(initial)"
   ]
  },
  {
   "cell_type": "code",
   "execution_count": 70,
   "metadata": {},
   "outputs": [
    {
     "name": "stdout",
     "output_type": "stream",
     "text": [
      "58\n"
     ]
    }
   ],
   "source": [
    "ni = 12\n",
    "\n",
    "def func():\n",
    "    global ni\n",
    "    ni = 58\n",
    "\n",
    "func()\n",
    "print(ni)"
   ]
  },
  {
   "cell_type": "code",
   "execution_count": 75,
   "metadata": {},
   "outputs": [
    {
     "name": "stdout",
     "output_type": "stream",
     "text": [
      "3\n"
     ]
    },
    {
     "ename": "TypeError",
     "evalue": "unsupported operand type(s) for +: 'int' and 'str'",
     "output_type": "error",
     "traceback": [
      "\u001b[0;31m---------------------------------------------------------------------------\u001b[0m",
      "\u001b[0;31mTypeError\u001b[0m                                 Traceback (most recent call last)",
      "\u001b[0;32m/tmp/ipykernel_1964983/518438095.py\u001b[0m in \u001b[0;36m<module>\u001b[0;34m\u001b[0m\n\u001b[1;32m      3\u001b[0m \u001b[0;34m\u001b[0m\u001b[0m\n\u001b[1;32m      4\u001b[0m \u001b[0mprint\u001b[0m\u001b[0;34m(\u001b[0m\u001b[0mcalc\u001b[0m\u001b[0;34m(\u001b[0m\u001b[0;36m1\u001b[0m\u001b[0;34m,\u001b[0m \u001b[0;36m2\u001b[0m\u001b[0;34m)\u001b[0m\u001b[0;34m)\u001b[0m\u001b[0;34m\u001b[0m\u001b[0;34m\u001b[0m\u001b[0m\n\u001b[0;32m----> 5\u001b[0;31m \u001b[0mprint\u001b[0m\u001b[0;34m(\u001b[0m\u001b[0mcalc\u001b[0m\u001b[0;34m(\u001b[0m\u001b[0;36m1\u001b[0m\u001b[0;34m,\u001b[0m \u001b[0;34m'hello'\u001b[0m\u001b[0;34m)\u001b[0m\u001b[0;34m)\u001b[0m\u001b[0;34m\u001b[0m\u001b[0;34m\u001b[0m\u001b[0m\n\u001b[0m",
      "\u001b[0;32m/tmp/ipykernel_1964983/518438095.py\u001b[0m in \u001b[0;36mcalc\u001b[0;34m(x, y)\u001b[0m\n\u001b[1;32m      1\u001b[0m \u001b[0;32mdef\u001b[0m \u001b[0mcalc\u001b[0m\u001b[0;34m(\u001b[0m\u001b[0mx\u001b[0m\u001b[0;34m:\u001b[0m \u001b[0mint\u001b[0m\u001b[0;34m,\u001b[0m \u001b[0my\u001b[0m\u001b[0;34m:\u001b[0m \u001b[0mint\u001b[0m\u001b[0;34m)\u001b[0m\u001b[0;34m:\u001b[0m\u001b[0;34m\u001b[0m\u001b[0;34m\u001b[0m\u001b[0m\n\u001b[0;32m----> 2\u001b[0;31m     \u001b[0;32mreturn\u001b[0m \u001b[0mx\u001b[0m \u001b[0;34m+\u001b[0m \u001b[0my\u001b[0m\u001b[0;34m\u001b[0m\u001b[0;34m\u001b[0m\u001b[0m\n\u001b[0m\u001b[1;32m      3\u001b[0m \u001b[0;34m\u001b[0m\u001b[0m\n\u001b[1;32m      4\u001b[0m \u001b[0mprint\u001b[0m\u001b[0;34m(\u001b[0m\u001b[0mcalc\u001b[0m\u001b[0;34m(\u001b[0m\u001b[0;36m1\u001b[0m\u001b[0;34m,\u001b[0m \u001b[0;36m2\u001b[0m\u001b[0;34m)\u001b[0m\u001b[0;34m)\u001b[0m\u001b[0;34m\u001b[0m\u001b[0;34m\u001b[0m\u001b[0m\n\u001b[1;32m      5\u001b[0m \u001b[0mprint\u001b[0m\u001b[0;34m(\u001b[0m\u001b[0mcalc\u001b[0m\u001b[0;34m(\u001b[0m\u001b[0;36m1\u001b[0m\u001b[0;34m,\u001b[0m \u001b[0;34m'hello'\u001b[0m\u001b[0;34m)\u001b[0m\u001b[0;34m)\u001b[0m\u001b[0;34m\u001b[0m\u001b[0;34m\u001b[0m\u001b[0m\n",
      "\u001b[0;31mTypeError\u001b[0m: unsupported operand type(s) for +: 'int' and 'str'"
     ]
    }
   ],
   "source": [
    "def calc(x: int, y: int):\n",
    "    return x + y\n",
    "\n",
    "print(calc(1, 2))\n",
    "print(calc(1, 'hello'))"
   ]
  }
 ],
 "metadata": {
  "kernelspec": {
   "display_name": "Python 3",
   "language": "python",
   "name": "python3"
  },
  "language_info": {
   "codemirror_mode": {
    "name": "ipython",
    "version": 3
   },
   "file_extension": ".py",
   "mimetype": "text/x-python",
   "name": "python",
   "nbconvert_exporter": "python",
   "pygments_lexer": "ipython3",
   "version": "3.10.12"
  },
  "orig_nbformat": 4
 },
 "nbformat": 4,
 "nbformat_minor": 2
}
