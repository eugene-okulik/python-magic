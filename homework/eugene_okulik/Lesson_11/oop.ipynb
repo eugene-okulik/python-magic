{
 "cells": [
  {
   "cell_type": "markdown",
   "metadata": {},
   "source": [
    "ООП(OOP) - Объектно ориентированное программирование"
   ]
  },
  {
   "cell_type": "markdown",
   "metadata": {},
   "source": [
    "Приципы ООП:\n",
    "- Инкапсуляция (Encapsulation)\n",
    "- Наследование (inheritance)\n",
    "- Полиморфизм (Polymorphism)"
   ]
  },
  {
   "cell_type": "markdown",
   "metadata": {},
   "source": [
    "### Инкапсуляция\n",
    "Все данные объекта должны хранится в объекте. Никто не может изменить данные объекта без его ведома."
   ]
  },
  {
   "cell_type": "markdown",
   "metadata": {},
   "source": [
    "### Наследование\n",
    "Объекты и их типы организуют иерархию типов. Дочерние типы наследуют свою функциональность от родительского класса, расширяя и дополняя её."
   ]
  },
  {
   "cell_type": "markdown",
   "metadata": {},
   "source": [
    "### Полиморфизм\n",
    "Способность классов менять своё поведение в зависимости от типов операций и операндов. Полиморфизм в программировании реализуется через перегрузку метода, либо через его переопределение."
   ]
  },
  {
   "cell_type": "code",
   "execution_count": 1,
   "metadata": {},
   "outputs": [],
   "source": [
    "from abc import abstractmethod\n",
    "\n",
    "class Group:\n",
    "    pupils = True\n",
    "    school_name = '42'\n",
    "    director = 'Marivanna'\n",
    "\n",
    "    def __init__(self, title, pupils_count, group_leader):\n",
    "        self.title = title\n",
    "        self.pupils_count = pupils_count\n",
    "        self.leader = group_leader\n",
    "        self.size = self.large_or_not()\n",
    "\n",
    "    def large_or_not(self):\n",
    "        if self.pupils_count > 15:\n",
    "            return 'large'\n",
    "        else:\n",
    "            return 'small'\n",
    "\n",
    "    @abstractmethod    \n",
    "    def move(self):\n",
    "        pass\n",
    "        \n",
    "\n",
    "\n",
    "class PrimaryGroup(Group):\n",
    "    max_age = 11\n",
    "    min_age = 6\n",
    "    building_section = 'left'\n",
    "\n",
    "    def __init__(self, title, pupils_count, group_leader, classroom):\n",
    "        super().__init__(title, pupils_count, group_leader)\n",
    "        self.classroom = classroom\n",
    "\n",
    "    def move(self):\n",
    "        print('run fast')\n",
    "\n",
    "\n",
    "\n",
    "class HighGroup(Group):\n",
    "    max_age = 18\n",
    "    min_age = 14\n",
    "\n",
    "    def move(self):\n",
    "        print('go slowly')"
   ]
  },
  {
   "cell_type": "code",
   "execution_count": 4,
   "metadata": {},
   "outputs": [
    {
     "name": "stdout",
     "output_type": "stream",
     "text": [
      "run fast\n",
      "6\n",
      "1\n"
     ]
    }
   ],
   "source": [
    "first_a = PrimaryGroup('1 A', 15, 'FF', 101)\n",
    "first_a.classroom\n",
    "\n",
    "first_a.move()\n",
    "print(first_a.min_age)\n",
    "first_a.min_age = 1\n",
    "print(first_a.min_age)"
   ]
  },
  {
   "cell_type": "code",
   "execution_count": null,
   "metadata": {},
   "outputs": [],
   "source": [
    "# data1.txt\n",
    "{\"Country\": \"Turkey\", \"avg_temp\": 30}\n",
    "# data2.txt\n",
    "{\"Country\": \"Greece\", \"avg_temp\": 28}"
   ]
  },
  {
   "cell_type": "code",
   "execution_count": 17,
   "metadata": {},
   "outputs": [
    {
     "name": "stdout",
     "output_type": "stream",
     "text": [
      "Turkey\n",
      "30\n",
      "Greece\n",
      "28\n"
     ]
    }
   ],
   "source": [
    "import json\n",
    "\n",
    "def read_file(filename):\n",
    "    data_file = open(filename, 'r')\n",
    "    # data = data_file.read()\n",
    "    data = json.load(data_file)\n",
    "    data_file.close()\n",
    "    return data\n",
    "\n",
    "\n",
    "data1 = read_file('data1.txt')\n",
    "data2 = read_file('data2.txt')\n",
    "\n",
    "print(data1['Country'])\n",
    "print(data1['avg_temp'])\n",
    "print(data2['Country'])\n",
    "print(data2['avg_temp'])\n"
   ]
  },
  {
   "cell_type": "code",
   "execution_count": 48,
   "metadata": {},
   "outputs": [],
   "source": [
    "import json\n",
    "\n",
    "class CountryData:\n",
    "    def __init__(self, filename) -> None:\n",
    "        self.__filename = filename\n",
    "        self.__data = self.__read_file()\n",
    "        self.__country = self.__data['Country']\n",
    "        self.__avg_temp = self.__data['avg_temp']\n",
    "\n",
    "    def __read_file(self):\n",
    "        data_file = open(self.__filename, 'r')\n",
    "        # data = data_file.read()\n",
    "        data = json.load(data_file)\n",
    "        data_file.close()\n",
    "        return data\n",
    "    \n",
    "    @property\n",
    "    def filename(self):\n",
    "        return self.__filename\n",
    "    \n",
    "    @property\n",
    "    def country(self):\n",
    "        return self.__country\n",
    "    \n",
    "    @property\n",
    "    def avg_temp(self):\n",
    "        return self.__avg_temp\n",
    "    \n",
    "    @avg_temp.setter\n",
    "    def avg_temp(self, value):\n",
    "        self.__avg_temp = value\n",
    "\n",
    "    @avg_temp.deleter\n",
    "    def avg_temp(self):\n",
    "        self.__avg_temp = None\n",
    "\n",
    "    def __str__(self):\n",
    "        return str(self.__data)\n",
    "    \n",
    "    def __repr__(self):\n",
    "        return str(self.__data)\n",
    "    \n",
    "    def __add__(self, obj):\n",
    "        return self.__data, obj.__data\n",
    "    \n",
    "    def __gt__(self, obj):\n",
    "        return self.__avg_temp > obj.__avg_temp\n",
    "    \n",
    "    def __ge__(self, obj):\n",
    "        return self.__avg_temp >= obj.__avg_temp"
   ]
  },
  {
   "cell_type": "code",
   "execution_count": 37,
   "metadata": {},
   "outputs": [
    {
     "name": "stdout",
     "output_type": "stream",
     "text": [
      "None\n",
      "Turkey\n",
      "Poland\n",
      "15\n"
     ]
    }
   ],
   "source": [
    "data1 = CountryData('data1.txt')\n",
    "data2 = CountryData('data2.txt')\n",
    "data3 = CountryData('data3.txt')\n",
    "\n",
    "data1.avg_temp = 10\n",
    "del data1.avg_temp\n",
    "print(data1.avg_temp)\n",
    "print(data1.country)\n",
    "# print(data2.__data)\n",
    "print(data3.country)\n",
    "print(data3.avg_temp)"
   ]
  },
  {
   "cell_type": "code",
   "execution_count": null,
   "metadata": {},
   "outputs": [],
   "source": [
    "# data3.txt\n",
    "{\"Country\": \"Poland\", \"avg_temp\": 15, \"min_temp\": 2}"
   ]
  },
  {
   "cell_type": "code",
   "execution_count": 24,
   "metadata": {},
   "outputs": [
    {
     "name": "stdout",
     "output_type": "stream",
     "text": [
      "Poland\n",
      "15\n",
      "2\n"
     ]
    }
   ],
   "source": [
    "class CountryDataWithMinTemp(CountryData):\n",
    "    def __init__(self, filename):\n",
    "        super().__init__(filename)\n",
    "        self.min_temp = self.data['min_temp']\n",
    "\n",
    "data3 = CountryDataWithMinTemp('data3.txt')\n",
    "print(data3.country)\n",
    "print(data3.avg_temp)\n",
    "print(data3.min_temp)"
   ]
  },
  {
   "cell_type": "code",
   "execution_count": 51,
   "metadata": {},
   "outputs": [
    {
     "name": "stdout",
     "output_type": "stream",
     "text": [
      "True\n",
      "False\n",
      "{'Country': 'Turkey', 'avg_temp': 30}\n",
      "({'Country': 'Turkey', 'avg_temp': 30}, {'Country': 'Greece', 'avg_temp': 28})\n"
     ]
    }
   ],
   "source": [
    "data1 = CountryData('data1.txt')\n",
    "data2 = CountryData('data2.txt')\n",
    "\n",
    "print(data1 >= data2)\n",
    "print(data1 < data2)\n",
    "print(data1)\n",
    "print(data1 + data2)\n"
   ]
  }
 ],
 "metadata": {
  "kernelspec": {
   "display_name": "Python 3",
   "language": "python",
   "name": "python3"
  },
  "language_info": {
   "codemirror_mode": {
    "name": "ipython",
    "version": 3
   },
   "file_extension": ".py",
   "mimetype": "text/x-python",
   "name": "python",
   "nbconvert_exporter": "python",
   "pygments_lexer": "ipython3",
   "version": "3.10.12"
  },
  "orig_nbformat": 4
 },
 "nbformat": 4,
 "nbformat_minor": 2
}
