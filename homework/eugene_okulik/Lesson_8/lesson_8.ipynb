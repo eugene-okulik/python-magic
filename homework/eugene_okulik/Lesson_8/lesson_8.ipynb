{
 "cells": [
  {
   "cell_type": "markdown",
   "metadata": {},
   "source": [
    "In-built functions - встроенные функции"
   ]
  },
  {
   "cell_type": "code",
   "execution_count": 17,
   "metadata": {},
   "outputs": [
    {
     "name": "stdout",
     "output_type": "stream",
     "text": [
      "89\n",
      "1\n",
      "257\n",
      "0.3\n",
      "1\n",
      "[1, 23, 32, 45, 67, 89]\n",
      "[89, 67, 45, 32, 23, 1]\n",
      "[1, 45, 23, 67, 32, 89]\n",
      "[89, 67, 45, 32, 23, 1]\n"
     ]
    }
   ],
   "source": [
    "numbers = [1, 45, 23, 67, 32, 89]\n",
    "print(max(numbers))\n",
    "# max_num = 0\n",
    "# for x in numbers:\n",
    "#     if x > max_num:\n",
    "#         max_num = x\n",
    "# print(max_num)\n",
    "print(min(numbers))\n",
    "print(sum(numbers))\n",
    "\n",
    "a = 1 / 3\n",
    "print(round(a, 1))\n",
    "\n",
    "print(abs(-1))\n",
    "\n",
    "\n",
    "print(sorted(numbers))\n",
    "print(sorted(numbers, reverse=True))\n",
    "print(numbers)\n",
    "numbers.sort()\n",
    "numbers.sort(reverse=True)\n",
    "print(numbers)"
   ]
  },
  {
   "cell_type": "markdown",
   "metadata": {},
   "source": [
    "### Map\n",
    "Применение операции к каждому элементу"
   ]
  },
  {
   "cell_type": "code",
   "execution_count": 18,
   "metadata": {},
   "outputs": [
    {
     "name": "stdout",
     "output_type": "stream",
     "text": [
      "[2, 4, 6, 8, 10]\n"
     ]
    }
   ],
   "source": [
    "my_list = [1, 2, 3, 4, 5]\n",
    "\n",
    "new_list = []\n",
    "for x in my_list:\n",
    "    new_list.append(x * 2)\n",
    "\n",
    "\n",
    "\n",
    "print(new_list)"
   ]
  },
  {
   "cell_type": "code",
   "execution_count": 23,
   "metadata": {},
   "outputs": [
    {
     "name": "stdout",
     "output_type": "stream",
     "text": [
      "[2, 4, 6, 8, 10]\n"
     ]
    }
   ],
   "source": [
    "my_list = [1, 2, 3, 4, 5]\n",
    "\n",
    "def mult_by_2(x):\n",
    "    return x * 2\n",
    "\n",
    "new_list = map(mult_by_2, my_list)\n",
    "print(list(new_list))\n",
    "\n",
    "# for n in new_list:\n",
    "#     print(n)"
   ]
  },
  {
   "cell_type": "code",
   "execution_count": 24,
   "metadata": {},
   "outputs": [
    {
     "name": "stdout",
     "output_type": "stream",
     "text": [
      "[2, 4, 6, 8, 10]\n"
     ]
    }
   ],
   "source": [
    "my_list = [1, 2, 3, 4, 5]\n",
    "\n",
    "new_list = map(lambda x: x * 2, my_list)\n",
    "print(list(new_list))"
   ]
  },
  {
   "cell_type": "code",
   "execution_count": 26,
   "metadata": {},
   "outputs": [
    {
     "name": "stdout",
     "output_type": "stream",
     "text": [
      "too little\n"
     ]
    }
   ],
   "source": [
    "u_number = int(input('number: '))\n",
    "\n",
    "result = 'too much' if u_number > 3 else 'too little'\n",
    "print(result)\n"
   ]
  },
  {
   "cell_type": "code",
   "execution_count": 28,
   "metadata": {},
   "outputs": [
    {
     "name": "stdout",
     "output_type": "stream",
     "text": [
      "3\n",
      "3\n"
     ]
    }
   ],
   "source": [
    "def mul_by_3(x):\n",
    "    if x == 3:\n",
    "        return x\n",
    "    else:\n",
    "        return x * 3\n",
    "    \n",
    "new_func = lambda x: x if x == 3 else  x * 3\n",
    "print(mul_by_3(3))\n",
    "print(new_func(3))"
   ]
  },
  {
   "cell_type": "markdown",
   "metadata": {},
   "source": [
    "### Filter"
   ]
  },
  {
   "cell_type": "code",
   "execution_count": 29,
   "metadata": {},
   "outputs": [
    {
     "name": "stdout",
     "output_type": "stream",
     "text": [
      "[2, 4, 6, 8]\n"
     ]
    }
   ],
   "source": [
    "my_list2 = [1, 2, 3, 4, 5, 6, 7, 8]\n",
    "\n",
    "new_list2 = []\n",
    "for x in my_list2:\n",
    "    if x % 2 == 0:\n",
    "        new_list2.append(x)\n",
    "\n",
    "print(new_list2)"
   ]
  },
  {
   "cell_type": "code",
   "execution_count": 30,
   "metadata": {},
   "outputs": [
    {
     "name": "stdout",
     "output_type": "stream",
     "text": [
      "[2, 4, 6, 8]\n"
     ]
    }
   ],
   "source": [
    "my_list2 = [1, 2, 3, 4, 5, 6, 7, 8]\n",
    "\n",
    "def is_even(x):\n",
    "    return x % 2 == 0\n",
    "\n",
    "new_list2 = filter(is_even, my_list2)\n",
    "\n",
    "print(list(new_list2))"
   ]
  },
  {
   "cell_type": "code",
   "execution_count": 31,
   "metadata": {},
   "outputs": [
    {
     "name": "stdout",
     "output_type": "stream",
     "text": [
      "[2, 4, 6, 8]\n"
     ]
    }
   ],
   "source": [
    "my_list2 = [1, 2, 3, 4, 5, 6, 7, 8]\n",
    "\n",
    "new_list2 = filter(lambda x: x % 2 == 0, my_list2)\n",
    "\n",
    "print(list(new_list2))"
   ]
  },
  {
   "cell_type": "markdown",
   "metadata": {},
   "source": [
    "### Datetime"
   ]
  },
  {
   "cell_type": "code",
   "execution_count": 37,
   "metadata": {},
   "outputs": [
    {
     "name": "stdout",
     "output_type": "stream",
     "text": [
      "2023-08-25 20:47:25.298948\n",
      "4\n",
      "5\n",
      "2023\n",
      "1692985645.298948\n"
     ]
    }
   ],
   "source": [
    "import datetime\n",
    "\n",
    "time_now = datetime.datetime.now()\n",
    "print(time_now)\n",
    "print(time_now.weekday())\n",
    "print(time_now.isoweekday())\n",
    "print(time_now.year)\n",
    "print(time_now.timestamp())"
   ]
  },
  {
   "cell_type": "code",
   "execution_count": 43,
   "metadata": {},
   "outputs": [
    {
     "name": "stdout",
     "output_type": "stream",
     "text": [
      "1360-12-15 00:00:00\n",
      "-19219600216.0\n"
     ]
    }
   ],
   "source": [
    "easy_date = datetime.datetime(1360, 12, 15)\n",
    "print(easy_date)\n",
    "print(easy_date.timestamp())"
   ]
  },
  {
   "cell_type": "code",
   "execution_count": 44,
   "metadata": {},
   "outputs": [
    {
     "name": "stdout",
     "output_type": "stream",
     "text": [
      "6\n"
     ]
    }
   ],
   "source": [
    "my_time = '2023-06-05 12:30:10.434723'\n",
    "\n",
    "python_date = datetime.datetime.fromisoformat(my_time)\n",
    "print(python_date.month)"
   ]
  },
  {
   "cell_type": "markdown",
   "metadata": {},
   "source": [
    "https://docs.python.org/3/library/datetime.html#strftime-and-strptime-format-codes"
   ]
  },
  {
   "cell_type": "code",
   "execution_count": 47,
   "metadata": {},
   "outputs": [
    {
     "name": "stdout",
     "output_type": "stream",
     "text": [
      "2023-06-05 12:30:10\n",
      "6\n",
      "Year: 23, month: June, day: 05\n"
     ]
    }
   ],
   "source": [
    "my_time = '2023/06/05 12 hours, 30 mins, 10 secs'\n",
    "\n",
    "python_date = datetime.datetime.strptime(my_time, '%Y/%m/%d %H hours, %M mins, %S secs')\n",
    "print(python_date)\n",
    "print(python_date.month)\n",
    "\n",
    "human_date = python_date.strftime('Year: %y, month: %B, day: %d')\n",
    "print(human_date)"
   ]
  }
 ],
 "metadata": {
  "kernelspec": {
   "display_name": "Python 3",
   "language": "python",
   "name": "python3"
  },
  "language_info": {
   "codemirror_mode": {
    "name": "ipython",
    "version": 3
   },
   "file_extension": ".py",
   "mimetype": "text/x-python",
   "name": "python",
   "nbconvert_exporter": "python",
   "pygments_lexer": "ipython3",
   "version": "3.10.12"
  },
  "orig_nbformat": 4
 },
 "nbformat": 4,
 "nbformat_minor": 2
}
