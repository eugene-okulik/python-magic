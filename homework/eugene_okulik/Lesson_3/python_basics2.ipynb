{
 "cells": [
  {
   "cell_type": "markdown",
   "metadata": {},
   "source": [
    "### Операторы присваивания\n",
    "![](img/2022-11-16_20-00.png)  \n",
    "Используются для того, чтобы присвоить какое либо значение переменной."
   ]
  },
  {
   "cell_type": "markdown",
   "metadata": {},
   "source": [
    "Операторы, имеющие перед знаком равно арифметический знак используются для сокращения простых арифметических или составительных операций."
   ]
  },
  {
   "cell_type": "code",
   "execution_count": 4,
   "metadata": {},
   "outputs": [
    {
     "name": "stdout",
     "output_type": "stream",
     "text": [
      "1\n",
      "2\n",
      "3\n"
     ]
    }
   ],
   "source": [
    "a = 1\n",
    "print(a)\n",
    "a = a + 1\n",
    "print(a)\n",
    "a += 1\n",
    "print(a)"
   ]
  },
  {
   "cell_type": "code",
   "execution_count": 12,
   "metadata": {},
   "outputs": [
    {
     "name": "stdout",
     "output_type": "stream",
     "text": [
      "text\n",
      "textnew textnew_text\n",
      "\n",
      "--------------------\n",
      "Copyrights ...\n",
      "--------------------\n"
     ]
    }
   ],
   "source": [
    "text = 'text'\n",
    "print(text)\n",
    "new_text = 'new_text'\n",
    "text = text + 'new text'\n",
    "text += new_text\n",
    "print(text)\n",
    "print()\n",
    "symbol = '-'\n",
    "symbol *= 20\n",
    "print(symbol)\n",
    "print('Copyrights ...')\n",
    "print(symbol)"
   ]
  },
  {
   "cell_type": "markdown",
   "metadata": {},
   "source": [
    "### Операторы принадлежности\n",
    "![](img/2022-11-16_20-01.png)  \n",
    "Используются в условных выражениях (выражения, в которых содержится условие) для проверки вхождения (или не вхождения) одного объекта в состав другого. Результат работы - True или False  \n",
    "Например, можно проверить есть ли какое-то слово в строке:"
   ]
  },
  {
   "cell_type": "code",
   "execution_count": 15,
   "metadata": {},
   "outputs": [
    {
     "name": "stdout",
     "output_type": "stream",
     "text": [
      "False\n",
      "True\n"
     ]
    }
   ],
   "source": [
    "text = 'I love Python!'\n",
    "print('Love' in text)\n",
    "print('love' in text)"
   ]
  },
  {
   "cell_type": "markdown",
   "metadata": {},
   "source": [
    "### Операторы идентичности\n",
    "![](img/2022-11-16_20-05.png)  \n",
    "Используется для проверки является ли объект идентичным тому, что от него требуется (не просто равным по значению, а именно полностью идентичным).  \n",
    "Происходит проверка являются ли сравниваемые значения представителями одного и того же участка памяти в системе. Для чисел от 0 до 256 участки в памяти зарезервированы, поэтому при помещении в переменную такого числа (от 0 до 256) в переменную помещается не само число, а ссылка на него и память для этого числа не выделяется. Эти числа всегда хранятся в системе по одному и тому же адрему. Но если внести в переменную число > 256, то под это число выделяется память и в переменную сохраняется ссылка на эту новую ячейку памяти. Если создать еще одну переменную с таким же значением, под нее снова будет выделена память и в переменную будет сохранена ссылка на новую ячейку памяти.  \n",
    "Таким образом, операторы идентичности проверяют, что сравниваемые объекты представляют собой одну и ту же ячейку памяти."
   ]
  },
  {
   "cell_type": "code",
   "execution_count": 22,
   "metadata": {},
   "outputs": [
    {
     "name": "stdout",
     "output_type": "stream",
     "text": [
      "140656801695792\n",
      "140656801695792\n",
      "140657371829520\n",
      "140657371828112\n",
      "True\n",
      "False\n",
      "False\n"
     ]
    }
   ],
   "source": [
    "c = 'wkejejejejejejj'\n",
    "d = 'wkejejejejejejj'\n",
    "print(id(c))\n",
    "print(id(d))\n",
    "x = 300\n",
    "y = 300\n",
    "z = 200\n",
    "w = 200\n",
    "print(id(x))\n",
    "print(id(y))\n",
    "print(z is w)\n",
    "print(x is y)\n",
    "print(x is False)"
   ]
  },
  {
   "cell_type": "markdown",
   "metadata": {},
   "source": [
    "## Способы ввода данных\n",
    "Клавиатура  \n",
    "Чтение из файла  \n",
    "База данных  \n",
    "API  \n",
    "\n",
    "Но сначала разберемся с одним из них"
   ]
  },
  {
   "cell_type": "code",
   "execution_count": 24,
   "metadata": {},
   "outputs": [],
   "source": [
    "input('What is your name? ')  # При запуске кода с такой командой в терминале, у пользователя спросят What is your name? \n",
    "a = 1"
   ]
  },
  {
   "cell_type": "code",
   "execution_count": 25,
   "metadata": {},
   "outputs": [
    {
     "name": "stdout",
     "output_type": "stream",
     "text": [
      "Vasia\n"
     ]
    }
   ],
   "source": [
    "user_name = input('What is your name? ')\n",
    "print(user_name)"
   ]
  },
  {
   "cell_type": "markdown",
   "metadata": {},
   "source": [
    "Касательно функции input, важно знать, что все, что ввел пользователь будет сохранено в переменную как текст, независимо от того что пользователь ввел. Поэтому, если мы ждем от пользователя число и хотим работать с этим как с числом, то нужно будет преобразовать тот текст, который ввел пользователь в число."
   ]
  },
  {
   "cell_type": "code",
   "execution_count": 31,
   "metadata": {},
   "outputs": [
    {
     "name": "stdout",
     "output_type": "stream",
     "text": [
      "<class 'str'>\n"
     ]
    },
    {
     "ename": "TypeError",
     "evalue": "can only concatenate str (not \"int\") to str",
     "output_type": "error",
     "traceback": [
      "\u001b[0;31m---------------------------------------------------------------------------\u001b[0m",
      "\u001b[0;31mTypeError\u001b[0m                                 Traceback (most recent call last)",
      "\u001b[0;32m/tmp/ipykernel_1775683/2814165942.py\u001b[0m in \u001b[0;36m<module>\u001b[0;34m\u001b[0m\n\u001b[1;32m      2\u001b[0m \u001b[0mprint\u001b[0m\u001b[0;34m(\u001b[0m\u001b[0mtype\u001b[0m\u001b[0;34m(\u001b[0m\u001b[0muser_name\u001b[0m\u001b[0;34m)\u001b[0m\u001b[0;34m)\u001b[0m\u001b[0;34m\u001b[0m\u001b[0;34m\u001b[0m\u001b[0m\n\u001b[1;32m      3\u001b[0m \u001b[0;34m\u001b[0m\u001b[0m\n\u001b[0;32m----> 4\u001b[0;31m \u001b[0mprint\u001b[0m\u001b[0;34m(\u001b[0m\u001b[0muser_input\u001b[0m \u001b[0;34m+\u001b[0m \u001b[0;36m2\u001b[0m\u001b[0;34m)\u001b[0m\u001b[0;34m\u001b[0m\u001b[0;34m\u001b[0m\u001b[0m\n\u001b[0m",
      "\u001b[0;31mTypeError\u001b[0m: can only concatenate str (not \"int\") to str"
     ]
    }
   ],
   "source": [
    "user_input = input('Type something ')\n",
    "print(type(user_name))\n",
    "\n",
    "print(user_input + 2)\n"
   ]
  },
  {
   "cell_type": "code",
   "execution_count": 30,
   "metadata": {},
   "outputs": [
    {
     "ename": "TypeError",
     "evalue": "unsupported operand type(s) for +: 'int' and 'str'",
     "output_type": "error",
     "traceback": [
      "\u001b[0;31m---------------------------------------------------------------------------\u001b[0m",
      "\u001b[0;31mTypeError\u001b[0m                                 Traceback (most recent call last)",
      "\u001b[0;32m/tmp/ipykernel_1775683/3240228587.py\u001b[0m in \u001b[0;36m<module>\u001b[0;34m\u001b[0m\n\u001b[1;32m      1\u001b[0m \u001b[0ma\u001b[0m \u001b[0;34m=\u001b[0m \u001b[0;36m1\u001b[0m\u001b[0;34m\u001b[0m\u001b[0;34m\u001b[0m\u001b[0m\n\u001b[1;32m      2\u001b[0m \u001b[0mb\u001b[0m \u001b[0;34m=\u001b[0m \u001b[0;34m'2'\u001b[0m\u001b[0;34m\u001b[0m\u001b[0;34m\u001b[0m\u001b[0m\n\u001b[0;32m----> 3\u001b[0;31m \u001b[0mprint\u001b[0m\u001b[0;34m(\u001b[0m\u001b[0ma\u001b[0m \u001b[0;34m+\u001b[0m \u001b[0mb\u001b[0m\u001b[0;34m)\u001b[0m\u001b[0;34m\u001b[0m\u001b[0;34m\u001b[0m\u001b[0m\n\u001b[0m",
      "\u001b[0;31mTypeError\u001b[0m: unsupported operand type(s) for +: 'int' and 'str'"
     ]
    }
   ],
   "source": [
    "a = 1\n",
    "b = '2'\n",
    "print(a + b)"
   ]
  },
  {
   "cell_type": "markdown",
   "metadata": {},
   "source": [
    "## Преобразование типов данных"
   ]
  },
  {
   "cell_type": "code",
   "execution_count": 41,
   "metadata": {},
   "outputs": [
    {
     "name": "stdout",
     "output_type": "stream",
     "text": [
      "<class 'str'>\n",
      "<class 'int'>\n",
      "<class 'str'>\n",
      "<class 'str'>\n",
      "<class 'bool'>\n",
      "<class 'float'>\n",
      "1.0\n"
     ]
    }
   ],
   "source": [
    "a = '1'\n",
    "print(type(a))\n",
    "a = int(a)\n",
    "print(type(a))\n",
    "a = str(a)\n",
    "print(type(a))\n",
    "b = 'True'\n",
    "print(type(b))\n",
    "b = bool(b)\n",
    "print(type(b))\n",
    "a = float(a)\n",
    "print(type(a))\n",
    "print(a)\n",
    "\n"
   ]
  },
  {
   "cell_type": "code",
   "execution_count": 43,
   "metadata": {},
   "outputs": [
    {
     "name": "stdout",
     "output_type": "stream",
     "text": [
      "3\n"
     ]
    }
   ],
   "source": [
    "user_input = int(input('Enter any number: '))\n",
    "\n",
    "print(user_input + 2)"
   ]
  },
  {
   "cell_type": "markdown",
   "metadata": {},
   "source": [
    "# Типы данных в Python\n",
    "Number (целое число)  \n",
    "String (строка)  \n",
    "Boolean (логический тип данных)  \n",
    "Float(числа с плавающей точкой)  \n",
    "List (список)  \n",
    "Dictionary (словарь)  \n",
    "Tuple (кортеж)  \n",
    "Set (множество)  \n",
    " "
   ]
  },
  {
   "cell_type": "markdown",
   "metadata": {},
   "source": [
    "## List(списки)\n",
    "Python список - структура данных для хранения последовательностей.   \n",
    "Экземпляры значений, находящихся в списке, называются элементами списка."
   ]
  },
  {
   "cell_type": "code",
   "execution_count": 51,
   "metadata": {},
   "outputs": [
    {
     "name": "stdout",
     "output_type": "stream",
     "text": [
      "6\n",
      "1\n",
      "2.42\n",
      "last\n",
      "2.42\n",
      "[1, 3, 6, 42, None, 'text', False, 2.42, 'sdsdf', 'last']\n"
     ]
    }
   ],
   "source": [
    "my_list = [1, 3, 6, 7, None, 'text', False, 2.42, 'sdsdf', 'last']\n",
    "print(my_list[2])\n",
    "print(my_list[0])\n",
    "print(my_list[7])\n",
    "print(my_list[-1])\n",
    "print(my_list[-3])\n",
    "\n",
    "my_list[3] = 42\n",
    "print(my_list)"
   ]
  },
  {
   "cell_type": "code",
   "execution_count": 61,
   "metadata": {},
   "outputs": [
    {
     "name": "stdout",
     "output_type": "stream",
     "text": [
      "[42, 'text', True]\n",
      "3\n",
      "1\n",
      "['text', True]\n",
      "42\n",
      "True\n",
      "False\n"
     ]
    }
   ],
   "source": [
    "my_list = []\n",
    "my_list = list()\n",
    "my_list.append(42)\n",
    "my_list.append('text')\n",
    "my_list.append(True)\n",
    "print(my_list)\n",
    "print(len(my_list))\n",
    "print(my_list.index('text'))\n",
    "poped = my_list.pop(0)\n",
    "print(my_list)\n",
    "print(poped)\n",
    "\n",
    "print('text' in my_list)\n",
    "print('text' not in my_list)"
   ]
  },
  {
   "cell_type": "markdown",
   "metadata": {},
   "source": [
    "## Tuple(кортежи)\n",
    "Хранят данные различных типов  \n",
    "Неизменяемы  \n",
    "Занимают меньший размер  \n",
    "Оптимизируются интепретатором   \n",
    "По поведению похожи на списки. Главное отличие - нет функций, позволяющих что-то добавить в кортеж или изменить внутри него"
   ]
  },
  {
   "cell_type": "code",
   "execution_count": 64,
   "metadata": {},
   "outputs": [
    {
     "name": "stdout",
     "output_type": "stream",
     "text": [
      "6\n",
      "2.42\n"
     ]
    },
    {
     "ename": "TypeError",
     "evalue": "'tuple' object does not support item assignment",
     "output_type": "error",
     "traceback": [
      "\u001b[0;31m---------------------------------------------------------------------------\u001b[0m",
      "\u001b[0;31mTypeError\u001b[0m                                 Traceback (most recent call last)",
      "\u001b[0;32m/tmp/ipykernel_1775683/2879363112.py\u001b[0m in \u001b[0;36m<module>\u001b[0;34m\u001b[0m\n\u001b[1;32m      2\u001b[0m \u001b[0mprint\u001b[0m\u001b[0;34m(\u001b[0m\u001b[0mmy_tuple\u001b[0m\u001b[0;34m[\u001b[0m\u001b[0;36m2\u001b[0m\u001b[0;34m]\u001b[0m\u001b[0;34m)\u001b[0m\u001b[0;34m\u001b[0m\u001b[0;34m\u001b[0m\u001b[0m\n\u001b[1;32m      3\u001b[0m \u001b[0mprint\u001b[0m\u001b[0;34m(\u001b[0m\u001b[0mmy_tuple\u001b[0m\u001b[0;34m[\u001b[0m\u001b[0;34m-\u001b[0m\u001b[0;36m1\u001b[0m\u001b[0;34m]\u001b[0m\u001b[0;34m)\u001b[0m\u001b[0;34m\u001b[0m\u001b[0;34m\u001b[0m\u001b[0m\n\u001b[0;32m----> 4\u001b[0;31m \u001b[0mmy_tuple\u001b[0m\u001b[0;34m[\u001b[0m\u001b[0;36m3\u001b[0m\u001b[0;34m]\u001b[0m \u001b[0;34m=\u001b[0m \u001b[0;36m42\u001b[0m\u001b[0;34m\u001b[0m\u001b[0;34m\u001b[0m\u001b[0m\n\u001b[0m",
      "\u001b[0;31mTypeError\u001b[0m: 'tuple' object does not support item assignment"
     ]
    }
   ],
   "source": [
    "my_tuple = (1, 3, 6, 7, None, 'text', False, 2.42)\n",
    "print(my_tuple[2])\n",
    "print(my_tuple[-1])\n",
    "# my_tuple[3] = 42"
   ]
  },
  {
   "cell_type": "code",
   "execution_count": 66,
   "metadata": {},
   "outputs": [
    {
     "name": "stdout",
     "output_type": "stream",
     "text": [
      "(1, 5, 1, 1)\n",
      "3\n",
      "1\n"
     ]
    }
   ],
   "source": [
    "my_tuple = ()\n",
    "my_tuple = tuple()\n",
    "my_tuple = (1, 5, 1, 1)\n",
    "print(my_tuple)\n",
    "print(my_tuple.count(1))\n",
    "print(my_tuple.index(5))"
   ]
  },
  {
   "cell_type": "code",
   "execution_count": null,
   "metadata": {},
   "outputs": [],
   "source": [
    "list1 = [42]\n",
    "tuple1 = (42,)\n",
    "tuple1 = (42)"
   ]
  },
  {
   "cell_type": "markdown",
   "metadata": {},
   "source": [
    "неизменяемость"
   ]
  },
  {
   "cell_type": "code",
   "execution_count": 67,
   "metadata": {},
   "outputs": [
    {
     "name": "stdout",
     "output_type": "stream",
     "text": [
      "textssssss\n"
     ]
    }
   ],
   "source": [
    "text = 'text'\n",
    "text = text + 'sss'  # это перезаписывание, а не изменение\n",
    "text += 'sss'\n",
    "print(text)"
   ]
  },
  {
   "cell_type": "markdown",
   "metadata": {},
   "source": [
    "## Set(множества)\n",
    "Содержит в себе только неповторяющиеся элементы  \n",
    "Не гарантирует порядок элементов  \n",
    "Работа с ним тоже похожа на работу со списком  "
   ]
  },
  {
   "cell_type": "code",
   "execution_count": 72,
   "metadata": {},
   "outputs": [
    {
     "name": "stdout",
     "output_type": "stream",
     "text": [
      "{False, 1, 2.42, 3, 6, 7, 42, 'text', None}\n"
     ]
    }
   ],
   "source": [
    "my_set = {1, 3, 6, 7, None, 'text', False, 2.42}\n",
    "# my_set[2]\n",
    "# my_set[3] = 42\n",
    "my_set.add(42)\n",
    "my_set.add(1)\n",
    "print(my_set)"
   ]
  },
  {
   "cell_type": "code",
   "execution_count": 74,
   "metadata": {},
   "outputs": [
    {
     "name": "stdout",
     "output_type": "stream",
     "text": [
      "[1, 2, 3, 5, 7]\n",
      "[1, 2, 3, 5, 7]\n"
     ]
    }
   ],
   "source": [
    "my_set = {} # так создается словарь\n",
    "my_set = set()\n",
    "\n",
    "lll = [1, 3, 5, 2, 5, 7 ,1, 3]\n",
    "sss = set(lll)\n",
    "lll = list(sss)\n",
    "unique = list(set(lll))\n",
    "print(unique)\n",
    "print(lll)"
   ]
  },
  {
   "cell_type": "markdown",
   "metadata": {},
   "source": [
    "## Dictionary(словари)\n",
    "Словари в Python - неупорядоченные коллекции произвольных объектов с доступом по ключу. Их иногда ещё называют ассоциативными массивами или хеш-таблицами.  \n",
    "  \n",
    "данные в словаре - это пары ключ: значение  \n",
    "доступ к значениям осуществляется по ключу, а не по номеру, как в списках  \n",
    "данные в словаре упорядочены по порядку добавления элементов  \n",
    "так как словари изменяемы, то элементы словаря можно менять, добавлять, удалять  \n",
    "ключ должен быть объектом неизменяемого типа: число, строка, кортеж  \n",
    "значение может быть данными любого типа  "
   ]
  },
  {
   "cell_type": "code",
   "execution_count": 81,
   "metadata": {},
   "outputs": [
    {
     "name": "stdout",
     "output_type": "stream",
     "text": [
      "value\n",
      "2\n",
      "{'one': 42, 'two': 'value2', 'three': 'value3', 'four': 4, 'five': False, 'six': None, 'seven': {1: 2, 3: 4}, 'eight': (1, 3), 'ten': [1, 3], 1: 5, (1, 3): 4, 2.42: 10}\n",
      "dict_keys(['one', 'two', 'three', 'four', 'five', 'six', 'seven', 'eight', 'ten', 1, (1, 3), 2.42])\n",
      "dict_values([42, 'value2', 'value3', 4, False, None, {1: 2, 3: 4}, (1, 3), [1, 3], 5, 4, 10])\n",
      "dict_items([('one', 42), ('two', 'value2'), ('three', 'value3'), ('four', 4), ('five', False), ('six', None), ('seven', {1: 2, 3: 4}), ('eight', (1, 3)), ('ten', [1, 3]), (1, 5), ((1, 3), 4), (2.42, 10)])\n"
     ]
    }
   ],
   "source": [
    "my_dict = {'one': 'value', 'two': 'value2'}\n",
    "print(my_dict['one'])\n",
    "print(len(my_dict))\n",
    "my_dict['three'] = 'value3'\n",
    "my_dict['one'] = 42\n",
    "my_dict['four'] = 4\n",
    "my_dict['five'] = False\n",
    "my_dict['six'] = None\n",
    "my_dict['seven'] = {1: 2, 3: 4}  # добавление словаря в качестве значения\n",
    "my_dict['eight'] = (1, 3)\n",
    "my_dict['ten'] = [1, 3]\n",
    "my_dict[1] = 5\n",
    "my_dict[(1, 3)] = 4\n",
    "my_dict[2.42] = 10\n",
    "print(my_dict)\n",
    "\n",
    "\n",
    "print(my_dict.keys())\n",
    "print(my_dict.values())\n",
    "print(my_dict.items())"
   ]
  }
 ],
 "metadata": {
  "kernelspec": {
   "display_name": "Python 3 (ipykernel)",
   "language": "python",
   "name": "python3"
  },
  "language_info": {
   "codemirror_mode": {
    "name": "ipython",
    "version": 3
   },
   "file_extension": ".py",
   "mimetype": "text/x-python",
   "name": "python",
   "nbconvert_exporter": "python",
   "pygments_lexer": "ipython3",
   "version": "3.10.12"
  }
 },
 "nbformat": 4,
 "nbformat_minor": 2
}
