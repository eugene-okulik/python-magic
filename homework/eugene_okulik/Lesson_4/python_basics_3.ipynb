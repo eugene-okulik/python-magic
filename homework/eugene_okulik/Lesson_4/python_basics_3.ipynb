{
 "cells": [
  {
   "cell_type": "markdown",
   "metadata": {},
   "source": [
    "### Распаковка\n",
    "Используется для того, чтобы распределить элементы коллекции (список, словарь, множество, кортеж) по отдельным переменным.  \n",
    "Используется только в ситуациях, когда вы наверняка знаете количество элементов, содержащихся в коллекции."
   ]
  },
  {
   "cell_type": "code",
   "execution_count": 7,
   "metadata": {},
   "outputs": [
    {
     "name": "stdout",
     "output_type": "stream",
     "text": [
      "1 3 1 4 5\n"
     ]
    }
   ],
   "source": [
    "my_list = [1, 3]\n",
    "my_tuple = (1, 4, 5)\n",
    "# a = my_list[0]\n",
    "# b = my_list[1]\n",
    "# c = my_tuple[0]\n",
    "# d = my_tuple[1]\n",
    "# e = my_tuple[2]\n",
    "a, b = my_list\n",
    "c, d, e = my_tuple\n",
    "print(a, b, c, d, e)"
   ]
  },
  {
   "cell_type": "markdown",
   "metadata": {},
   "source": [
    "### Срез  \n",
    "Извлечение среза позволяет взять из списка определенную его часть"
   ]
  },
  {
   "cell_type": "code",
   "execution_count": 21,
   "metadata": {},
   "outputs": [
    {
     "name": "stdout",
     "output_type": "stream",
     "text": [
      "[1, 3, 5, 2, 5, 7, 1, 3]\n",
      "[1, 3, 5, 2]\n",
      "[1, 3, 5, 2]\n",
      "[5, 2, 5, 7, 1, 3]\n",
      "[1, 3, 5, 2, 5, 7, 1, 3]\n",
      "[5, 7]\n",
      "[3, 1, 7, 5, 2, 5, 3, 1]\n",
      "[3, 7, 2, 3]\n",
      "[1, 7, 5]\n"
     ]
    }
   ],
   "source": [
    "lll = [1, 3, 5, 2, 5, 7 ,1, 3]\n",
    "print(lll)\n",
    "print(lll[0:4])\n",
    "print(lll[:4])\n",
    "print(lll[2:])\n",
    "print(lll[:])\n",
    "print(lll[2::3])\n",
    "print(lll[::-1])\n",
    "print(lll[::-2])\n",
    "print(lll[-2:-5:-1])"
   ]
  },
  {
   "cell_type": "markdown",
   "metadata": {},
   "source": [
    "## Методы строк\n",
    "Со строкой можно делать многое из того, что можно делать с другими коллекциями, т.к. строка это по сути тоже коллекция - последовательность символов. Больше всего функциональность строки похожа на функциональность кортежей."
   ]
  },
  {
   "cell_type": "code",
   "execution_count": 34,
   "metadata": {},
   "outputs": [
    {
     "name": "stdout",
     "output_type": "stream",
     "text": [
      "19\n",
      "3\n",
      "3\n",
      "2\n",
      "3\n",
      "2\n",
      " long\n",
      "500 Sever error.\n"
     ]
    }
   ],
   "source": [
    "text = 'my long long string'\n",
    "print(len(text))\n",
    "print(text.index('l'))\n",
    "print(text.index('long'))\n",
    "print(text.count('l'))\n",
    "print(text.count('n'))\n",
    "print(text.count('long'))\n",
    "print(text[2:7])\n",
    "err_message = 'System encountered an error: 500 Sever error.'\n",
    "# err_message = 'System encountered an Error: 500 Sever error.'\n",
    "word = 'error:'\n",
    "len_word = len(word) + 1\n",
    "details_index = err_message.lower().index('error:') + len_word\n",
    "print(err_message[details_index:])\n"
   ]
  },
  {
   "cell_type": "code",
   "execution_count": 31,
   "metadata": {},
   "outputs": [
    {
     "name": "stdout",
     "output_type": "stream",
     "text": [
      "This text with messed up capitalization!\n",
      "This Text With Messed Up Capitalization!\n",
      "THIS TEXT WITH MESSED UP CAPITALIZATION!\n",
      "this text with messed up capitalization!\n"
     ]
    }
   ],
   "source": [
    "txt = \"ThIs tExt wiTh meSsEd uP CaPITalIZatiOn!\"\n",
    "print(txt.capitalize()) # Делает первую букву предложения заглавной\n",
    "print(txt.title())  # Делает каждую первую букву заглавной\n",
    "print(txt.upper())  # Делает все буквы большими\n",
    "print(txt.lower())  # Делает все буквы маленькими"
   ]
  },
  {
   "cell_type": "code",
   "execution_count": 46,
   "metadata": {},
   "outputs": [
    {
     "name": "stdout",
     "output_type": "stream",
     "text": [
      "Hello world!\n",
      "Hello universe!\n",
      "word \n",
      "name\n"
     ]
    }
   ],
   "source": [
    "msg = 'Hello world!'\n",
    "msg2 = msg.replace('world', 'universe')\n",
    "print(msg)\n",
    "print(msg2)\n",
    "\n",
    "txt = ' word '\n",
    "# txt = txt.strip()\n",
    "# txt = txt.rstrip()\n",
    "txt = txt.lstrip()\n",
    "print(txt)\n",
    "text = '\"name\"'\n",
    "text = text.strip('\"')\n",
    "print(text)"
   ]
  },
  {
   "cell_type": "markdown",
   "metadata": {},
   "source": [
    "# Строка ←→ список"
   ]
  },
  {
   "cell_type": "code",
   "execution_count": 53,
   "metadata": {},
   "outputs": [
    {
     "name": "stdout",
     "output_type": "stream",
     "text": [
      "['some', 'little', 'text']\n",
      "['some', 'little', 'text']\n",
      "John knows these languages: Python, Java, Ruby\n"
     ]
    }
   ],
   "source": [
    "my_string = 'some little text'\n",
    "my_string2 = 'some;little;text'\n",
    "list_from_text = my_string.split()\n",
    "list_from_text2 = my_string2.split(';')\n",
    "print(list_from_text)\n",
    "print(list_from_text2)\n",
    "languages = ['Python', 'Java', 'Ruby']\n",
    "# languages = ', '.join(languages)\n",
    "print('John knows these languages:', ', '.join(languages))\n"
   ]
  },
  {
   "cell_type": "markdown",
   "metadata": {},
   "source": [
    "# Форматирование строки"
   ]
  },
  {
   "cell_type": "code",
   "execution_count": 63,
   "metadata": {},
   "outputs": [
    {
     "name": "stdout",
     "output_type": "stream",
     "text": [
      "First word is one , second word is two\n",
      "First word is one, second word is two\n",
      "First word is one, second word is two\n",
      "First word is one, second word is two\n",
      "First word is one, second word is two\n",
      "First word is one, second word is two\n"
     ]
    }
   ],
   "source": [
    "a = 'one'\n",
    "b = 'two'\n",
    "print('First word is', a, ',', 'second word is', b)\n",
    "\n",
    "my_text = 'First word is ' + a + ', second word is ' + b\n",
    "print(my_text)\n",
    "\n",
    "my_text = 'First word is %s, second word is %s'\n",
    "print(my_text % (a, b))\n",
    "\n",
    "#string format\n",
    "my_text = 'First word is {}, second word is {}'\n",
    "print(my_text.format(a, b))\n",
    "\n",
    "my_text = 'First word is {0}, second word is {1}'\n",
    "print(my_text.format(a, b))\n",
    "\n",
    "#f-string\n",
    "my_text = f'First word is {a}, second word is {b}'\n",
    "print(my_text)"
   ]
  },
  {
   "cell_type": "code",
   "execution_count": 71,
   "metadata": {},
   "outputs": [
    {
     "name": "stdout",
     "output_type": "stream",
     "text": [
      "My name is James\n"
     ]
    }
   ],
   "source": [
    "template = 'My name is {0}'\n",
    "# template = f'My name is {your_name}'\n",
    "your_name = input('enter yor name: ')\n",
    "print(template.format(your_name))\n"
   ]
  },
  {
   "cell_type": "code",
   "execution_count": 75,
   "metadata": {},
   "outputs": [
    {
     "name": "stdout",
     "output_type": "stream",
     "text": [
      "Result of 2 + 2 is 4\n",
      "John knows these languages:Python, Java, Ruby\n"
     ]
    }
   ],
   "source": [
    "print(f'Result of 2 + 2 is {2 + 2}')\n",
    "languages = ['Python', 'Java', 'Ruby']\n",
    "print(f'John knows these languages: {\", \".join(languages)}' )"
   ]
  },
  {
   "cell_type": "markdown",
   "metadata": {},
   "source": [
    "# Условия"
   ]
  },
  {
   "cell_type": "code",
   "execution_count": 84,
   "metadata": {},
   "outputs": [
    {
     "name": "stdout",
     "output_type": "stream",
     "text": [
      "Studend says \"many\"\n"
     ]
    }
   ],
   "source": [
    "user_input = int(input('your number: '))\n",
    "if user_input == 1:\n",
    "    print('Student says \"One\"')\n",
    "elif user_input == 2:\n",
    "    print('Student says \"two\"')\n",
    "elif user_input == 3:\n",
    "    print('Student says \"three\"')\n",
    "elif user_input == 4:\n",
    "    print('Student says \"four\"')\n",
    "else:\n",
    "    print('Student says \"many\"')\n"
   ]
  },
  {
   "cell_type": "code",
   "execution_count": null,
   "metadata": {},
   "outputs": [],
   "source": [
    "a = 1\n",
    "if a == 1:\n",
    "    print('Hello')"
   ]
  },
  {
   "cell_type": "code",
   "execution_count": 6,
   "metadata": {},
   "outputs": [
    {
     "name": "stdout",
     "output_type": "stream",
     "text": [
      "Student says \"One\"\n",
      "Input is number\n"
     ]
    }
   ],
   "source": [
    "user_input = int(input('your number: '))\n",
    "if user_input == 1:\n",
    "    print('Student says \"One\"')\n",
    "if isinstance(user_input, int):\n",
    "    print('Input is number')\n",
    "else:\n",
    "    print('input is not number')"
   ]
  },
  {
   "cell_type": "code",
   "execution_count": 9,
   "metadata": {},
   "outputs": [
    {
     "name": "stdout",
     "output_type": "stream",
     "text": [
      "Student says \"many\"\n"
     ]
    }
   ],
   "source": [
    "voiceless = False\n",
    "user_input = int(input('your number: '))\n",
    "if user_input == 1:\n",
    "    print('Student says \"One\"')\n",
    "elif user_input == 2:\n",
    "    if voiceless is False:\n",
    "        print('Student says \"two\"')\n",
    "else:\n",
    "    if voiceless is False:\n",
    "        print('Student says \"many\"')\n",
    "    else:\n",
    "        if 1 == 1:\n",
    "            print('mmmm')\n",
    "        else:\n",
    "            if 2 == 2:\n",
    "                print()"
   ]
  },
  {
   "cell_type": "markdown",
   "metadata": {},
   "source": [
    "# Loops - циклы"
   ]
  },
  {
   "cell_type": "markdown",
   "metadata": {},
   "source": [
    "### for loop - Цикл for"
   ]
  },
  {
   "cell_type": "code",
   "execution_count": 13,
   "metadata": {},
   "outputs": [
    {
     "name": "stdout",
     "output_type": "stream",
     "text": [
      "['John', 'Tom', 'James', 'Bob', 'Jim', 'Bill']\n",
      "John\n",
      "Tom\n",
      "James\n",
      "Bob\n",
      "Jim\n",
      "John\n",
      "Tom\n",
      "James\n",
      "Bob\n",
      "Jim\n",
      "Bill\n",
      "the end\n"
     ]
    }
   ],
   "source": [
    "names = ['John', 'Tom', 'James', 'Bob', 'Jim', 'Bill']\n",
    "print(names)\n",
    "print(names[0])\n",
    "print(names[1])\n",
    "print(names[2])\n",
    "print(names[3])\n",
    "print(names[4])\n",
    "\n",
    "for name in names:\n",
    "    print(name)\n",
    "\n",
    "print('the end')"
   ]
  },
  {
   "cell_type": "code",
   "execution_count": 19,
   "metadata": {},
   "outputs": [
    {
     "name": "stdout",
     "output_type": "stream",
     "text": [
      "Dr. John\n",
      "Tom\n",
      "Dr. James\n",
      "Bob\n",
      "Dr. JIm\n",
      "BIll\n"
     ]
    }
   ],
   "source": [
    "names = ['John', 'Tom', 'James', 'Bob', 'Jim', 'Bill']\n",
    "\n",
    "for name in names:\n",
    "    name = name.replace('i', 'I')\n",
    "    if name.startswith('J'):\n",
    "        print('Dr.', end=' ')\n",
    "    print(name)"
   ]
  },
  {
   "cell_type": "code",
   "execution_count": 15,
   "metadata": {},
   "outputs": [
    {
     "name": "stdout",
     "output_type": "stream",
     "text": [
      "\n",
      "\n",
      "\n",
      ".\n"
     ]
    }
   ],
   "source": [
    "print()\n",
    "print()\n",
    "print()\n",
    "print('.')\n"
   ]
  },
  {
   "cell_type": "code",
   "execution_count": 20,
   "metadata": {},
   "outputs": [
    {
     "name": "stdout",
     "output_type": "stream",
     "text": [
      "John\n",
      "Tom\n",
      "James\n",
      "Bob\n",
      "Jim\n",
      "Bill\n"
     ]
    }
   ],
   "source": [
    "names = ('John', 'Tom', 'James', 'Bob', 'Jim', 'Bill')\n",
    "\n",
    "for name in names:\n",
    "    print(name)"
   ]
  },
  {
   "cell_type": "code",
   "execution_count": 21,
   "metadata": {},
   "outputs": [
    {
     "name": "stdout",
     "output_type": "stream",
     "text": [
      "Tom\n",
      "Bob\n",
      "James\n",
      "Jim\n",
      "John\n",
      "Bill\n"
     ]
    }
   ],
   "source": [
    "names = {'John', 'Tom', 'James', 'Bob', 'Jim', 'Bill'}\n",
    "\n",
    "for name in names:\n",
    "    print(name)"
   ]
  },
  {
   "cell_type": "code",
   "execution_count": 22,
   "metadata": {},
   "outputs": [
    {
     "name": "stdout",
     "output_type": "stream",
     "text": [
      "John\n",
      "Tom\n",
      "James\n"
     ]
    }
   ],
   "source": [
    "persons = {'John': 132, 'Tom': 167, 'James': 234}\n",
    "\n",
    "for pers in persons:\n",
    "    print(pers)"
   ]
  },
  {
   "cell_type": "code",
   "execution_count": 24,
   "metadata": {},
   "outputs": [
    {
     "name": "stdout",
     "output_type": "stream",
     "text": [
      "John\n",
      "Tom\n",
      "James\n"
     ]
    }
   ],
   "source": [
    "persons = {'John': 132, 'Tom': 167, 'James': 234}\n",
    "\n",
    "for name in persons.keys():\n",
    "    print(name)"
   ]
  },
  {
   "cell_type": "code",
   "execution_count": 25,
   "metadata": {},
   "outputs": [
    {
     "name": "stdout",
     "output_type": "stream",
     "text": [
      "132\n",
      "167\n",
      "234\n"
     ]
    }
   ],
   "source": [
    "persons = {'John': 132, 'Tom': 167, 'James': 234}\n",
    "\n",
    "for height in persons.values():\n",
    "    print(height)"
   ]
  },
  {
   "cell_type": "code",
   "execution_count": 30,
   "metadata": {},
   "outputs": [
    {
     "name": "stdout",
     "output_type": "stream",
     "text": [
      "John is 132 tall\n",
      "Tom is 167 tall\n",
      "James is 234 tall\n"
     ]
    }
   ],
   "source": [
    "persons = {'John': 132, 'Tom': 167, 'James': 234}\n",
    "\n",
    "for name, height in persons.items():\n",
    "    # name = pers[0]\n",
    "    # height = pers[1]\n",
    "    # name, height = pers\n",
    "    # print(name, height)\n",
    "    print(f'{name} is {height} tall')"
   ]
  },
  {
   "cell_type": "markdown",
   "metadata": {},
   "source": [
    "Распечатать все слова, в которых есть бука \"о\" и выбросить из текста, текст в конце рапечатать."
   ]
  },
  {
   "cell_type": "code",
   "execution_count": 35,
   "metadata": {},
   "outputs": [
    {
     "name": "stdout",
     "output_type": "stream",
     "text": [
      "justo\n",
      "commodo\n",
      "libero\n",
      "Sed vitae malesuada, eu, bibendum mauris.\n"
     ]
    }
   ],
   "source": [
    "text = 'Sed vitae justo malesuada, commodo libero eu, bibendum mauris.'\n",
    "\n",
    "words = text.split()\n",
    "\n",
    "fin_text = []\n",
    "for word in words:\n",
    "    if 'o' in word:\n",
    "        print(word)\n",
    "    else:\n",
    "        fin_text.append(word)\n",
    "\n",
    "print(' '.join(fin_text))"
   ]
  },
  {
   "cell_type": "code",
   "execution_count": 44,
   "metadata": {},
   "outputs": [
    {
     "name": "stdout",
     "output_type": "stream",
     "text": [
      "next\n",
      "345 is higher than Tom\n"
     ]
    }
   ],
   "source": [
    "tom = 300\n",
    "school = [123, 345, 234, 213, 243]\n",
    "\n",
    "for man in school:\n",
    "    if man > tom:\n",
    "        print(f'{man} is higher than Tom')\n",
    "        break\n",
    "    print('next')"
   ]
  },
  {
   "cell_type": "markdown",
   "metadata": {},
   "source": [
    "### while loop - цикл while"
   ]
  },
  {
   "cell_type": "code",
   "execution_count": 36,
   "metadata": {},
   "outputs": [
    {
     "name": "stdout",
     "output_type": "stream",
     "text": [
      "hello\n",
      "hello\n",
      "hello\n",
      "hello\n",
      "hello\n",
      "the end\n"
     ]
    }
   ],
   "source": [
    "i = 0\n",
    "\n",
    "while i < 5:\n",
    "    print('hello')\n",
    "    i += 1\n",
    "\n",
    "print('the end')"
   ]
  },
  {
   "cell_type": "code",
   "execution_count": 39,
   "metadata": {},
   "outputs": [
    {
     "name": "stdout",
     "output_type": "stream",
     "text": [
      "False\n"
     ]
    }
   ],
   "source": [
    "print(5 < 5)"
   ]
  },
  {
   "cell_type": "code",
   "execution_count": 42,
   "metadata": {},
   "outputs": [
    {
     "name": "stdout",
     "output_type": "stream",
     "text": [
      "2 hello\n",
      "\n",
      "4 hello\n",
      "\n",
      "6 hello\n",
      "\n",
      "8 hello\n",
      "\n",
      "10 hello\n",
      "\n"
     ]
    }
   ],
   "source": [
    "i = 0\n",
    "while True:\n",
    "    i += 1\n",
    "    if i > 10:\n",
    "        break\n",
    "    if i % 2 != 0:\n",
    "        continue\n",
    "    print(i, 'hello')\n",
    "    # print()\n"
   ]
  }
 ],
 "metadata": {
  "kernelspec": {
   "display_name": "Python 3",
   "language": "python",
   "name": "python3"
  },
  "language_info": {
   "codemirror_mode": {
    "name": "ipython",
    "version": 3
   },
   "file_extension": ".py",
   "mimetype": "text/x-python",
   "name": "python",
   "nbconvert_exporter": "python",
   "pygments_lexer": "ipython3",
   "version": "3.10.12"
  },
  "orig_nbformat": 4
 },
 "nbformat": 4,
 "nbformat_minor": 2
}
