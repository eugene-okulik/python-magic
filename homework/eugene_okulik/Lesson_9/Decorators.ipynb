{
 "cells": [
  {
   "cell_type": "markdown",
   "metadata": {},
   "source": [
    "# Decorators"
   ]
  },
  {
   "cell_type": "code",
   "execution_count": 12,
   "metadata": {},
   "outputs": [
    {
     "name": "stdout",
     "output_type": "stream",
     "text": [
      "2\n",
      "<function func at 0x7ff45462c430>\n",
      "<function func at 0x7ff45462c430>\n",
      "2\n",
      "2\n",
      "2\n"
     ]
    }
   ],
   "source": [
    "b = 2\n",
    "def func1():\n",
    "    print(2)\n",
    "\n",
    "func1()\n",
    "text = 'sdfsdfsdf'\n",
    "print(func1)\n",
    "new_func = func1\n",
    "print(new_func)\n",
    "new_func()\n",
    "b\n",
    "a = 1\n",
    "func1()\n",
    "new_func()"
   ]
  },
  {
   "cell_type": "code",
   "execution_count": 15,
   "metadata": {},
   "outputs": [
    {
     "name": "stdout",
     "output_type": "stream",
     "text": [
      "hello\n"
     ]
    }
   ],
   "source": [
    "def func2():\n",
    "\n",
    "    def hello():\n",
    "        return 'hello'\n",
    "    \n",
    "    return hello()\n",
    "\n",
    "print(func2())\n",
    "a = 1"
   ]
  },
  {
   "cell_type": "code",
   "execution_count": 21,
   "metadata": {},
   "outputs": [
    {
     "name": "stdout",
     "output_type": "stream",
     "text": [
      "inner\n"
     ]
    }
   ],
   "source": [
    "def func3():\n",
    "\n",
    "    def hello():\n",
    "\n",
    "        def inner():\n",
    "            return 'inner'\n",
    "        \n",
    "        return inner\n",
    "    \n",
    "    return hello\n",
    "\n",
    "print(func3()()())"
   ]
  },
  {
   "cell_type": "code",
   "execution_count": 24,
   "metadata": {},
   "outputs": [
    {
     "name": "stdout",
     "output_type": "stream",
     "text": [
      "simple1\n",
      "simple2\n",
      "before\n",
      "simple1\n",
      "after\n",
      "before\n",
      "simple2\n",
      "after\n",
      "before\n",
      "simple1\n",
      "after\n"
     ]
    },
    {
     "ename": "TypeError",
     "evalue": "'NoneType' object is not callable",
     "output_type": "error",
     "traceback": [
      "\u001b[0;31m---------------------------------------------------------------------------\u001b[0m",
      "\u001b[0;31mTypeError\u001b[0m                                 Traceback (most recent call last)",
      "\u001b[0;32m/tmp/ipykernel_2943961/2696086221.py\u001b[0m in \u001b[0;36m<module>\u001b[0;34m\u001b[0m\n\u001b[1;32m     18\u001b[0m \u001b[0;34m\u001b[0m\u001b[0m\n\u001b[1;32m     19\u001b[0m \u001b[0msimple1\u001b[0m \u001b[0;34m=\u001b[0m \u001b[0mfunc4\u001b[0m\u001b[0;34m(\u001b[0m\u001b[0msimple1\u001b[0m\u001b[0;34m)\u001b[0m\u001b[0;34m\u001b[0m\u001b[0;34m\u001b[0m\u001b[0m\n\u001b[0;32m---> 20\u001b[0;31m \u001b[0msimple1\u001b[0m\u001b[0;34m(\u001b[0m\u001b[0;34m)\u001b[0m\u001b[0;34m\u001b[0m\u001b[0;34m\u001b[0m\u001b[0m\n\u001b[0m",
      "\u001b[0;31mTypeError\u001b[0m: 'NoneType' object is not callable"
     ]
    }
   ],
   "source": [
    "def func4(func):\n",
    "    print('before')\n",
    "    func()\n",
    "    print('after')\n",
    "\n",
    "\n",
    "def simple1():\n",
    "    print('simple1')\n",
    "\n",
    "def simple2():\n",
    "    print('simple2')\n",
    "\n",
    "simple1()\n",
    "simple2()\n",
    "\n",
    "func4(simple1)\n",
    "func4(simple2)\n",
    "\n",
    "simple1 = func4(simple1)\n",
    "simple1()"
   ]
  },
  {
   "cell_type": "code",
   "execution_count": 31,
   "metadata": {},
   "outputs": [
    {
     "name": "stdout",
     "output_type": "stream",
     "text": [
      "<function add_text.<locals>.wrapper at 0x7ff45462cd30>\n",
      "before\n",
      "simple1\n",
      "after\n",
      "before\n",
      "simple2\n",
      "after\n"
     ]
    }
   ],
   "source": [
    "def add_text(func):\n",
    "\n",
    "    def wrapper():\n",
    "        print('before')\n",
    "        func()\n",
    "        print('after')\n",
    "\n",
    "    return wrapper\n",
    "\n",
    "def simple1():\n",
    "    print('simple1')\n",
    "\n",
    "def simple2():\n",
    "    print('simple2')\n",
    "\n",
    "simple1 = add_text(simple1)\n",
    "print(simple1)\n",
    "simple1()\n",
    "simple2 = add_text(simple2)\n",
    "simple2()\n",
    "a = 1"
   ]
  },
  {
   "cell_type": "code",
   "execution_count": 33,
   "metadata": {},
   "outputs": [
    {
     "name": "stdout",
     "output_type": "stream",
     "text": [
      "before\n",
      "simple1\n",
      "after\n",
      "before\n",
      "simple2\n",
      "after\n"
     ]
    }
   ],
   "source": [
    "def add_text(func):\n",
    "\n",
    "    def wrapper():\n",
    "        print('before')\n",
    "        func()\n",
    "        print('after')\n",
    "\n",
    "    return wrapper\n",
    "\n",
    "@add_text\n",
    "def simple1():\n",
    "    print('simple1')\n",
    "\n",
    "@add_text\n",
    "def simple2():\n",
    "    print('simple2')\n",
    "\n",
    "simple1()\n",
    "simple2()"
   ]
  },
  {
   "cell_type": "code",
   "execution_count": 35,
   "metadata": {},
   "outputs": [
    {
     "name": "stdout",
     "output_type": "stream",
     "text": [
      "function simple1\n",
      "simple1\n",
      "function simple2\n",
      "simple2\n",
      "function calc1\n",
      "4\n",
      "function calc2\n",
      "4\n"
     ]
    }
   ],
   "source": [
    "def add_logs(func):\n",
    "\n",
    "    def wrapper():\n",
    "        print(f'function {func.__name__}')\n",
    "        func()\n",
    "\n",
    "    return wrapper\n",
    "\n",
    "\n",
    "\n",
    "@add_logs\n",
    "def simple1():\n",
    "    print('simple1')\n",
    "\n",
    "@add_logs\n",
    "def simple2():\n",
    "    print('simple2')\n",
    "\n",
    "@add_logs\n",
    "def calc1():\n",
    "    print(1 + 3)\n",
    "\n",
    "@add_logs\n",
    "def calc2():\n",
    "    print(2 + 2)\n",
    "\n",
    "simple1()\n",
    "simple2()\n",
    "calc1()\n",
    "calc2()"
   ]
  },
  {
   "cell_type": "code",
   "execution_count": 41,
   "metadata": {},
   "outputs": [
    {
     "name": "stdout",
     "output_type": "stream",
     "text": [
      "function calc\n",
      "3\n",
      "function add_two\n",
      "5\n",
      "function simple1\n",
      "simple1\n"
     ]
    }
   ],
   "source": [
    "def add_logs(func):\n",
    "\n",
    "    def wrapper(*args):\n",
    "        print(f'function {func.__name__}')\n",
    "        func(*args)\n",
    "\n",
    "    return wrapper\n",
    "\n",
    "\n",
    "@add_logs\n",
    "def calc(x, y):\n",
    "    print(x + y)\n",
    "\n",
    "@add_logs\n",
    "def add_two(x):\n",
    "    print(x + 2)\n",
    "\n",
    "@add_logs\n",
    "def simple1():\n",
    "    print('simple1')\n",
    "\n",
    "calc(1, 2)\n",
    "add_two(3)\n",
    "simple1()"
   ]
  },
  {
   "cell_type": "markdown",
   "metadata": {},
   "source": [
    "### List comprehension"
   ]
  },
  {
   "cell_type": "code",
   "execution_count": 42,
   "metadata": {},
   "outputs": [
    {
     "name": "stdout",
     "output_type": "stream",
     "text": [
      "<generator object x at 0x7ff454662c70>\n"
     ]
    }
   ],
   "source": [
    "def x():\n",
    "    yield 1\n",
    "\n",
    "print(x())"
   ]
  },
  {
   "cell_type": "code",
   "execution_count": 46,
   "metadata": {},
   "outputs": [
    {
     "name": "stdout",
     "output_type": "stream",
     "text": [
      "[2, 4, 6, 8, 10, 12, 14, 16, 20]\n",
      "[2, 4, 6, 8, 10, 12, 14, 16, 20]\n",
      "<generator object <genexpr> at 0x7ff454663920>\n"
     ]
    }
   ],
   "source": [
    "my_list = [1, 2, 3, 4, 5, 6, 7, 8, 10]\n",
    "\n",
    "new_list = []\n",
    "for x in my_list:\n",
    "    new_list.append(x * 2)\n",
    "\n",
    "print(new_list)\n",
    "\n",
    "new_list = [x * 2 for x in my_list]\n",
    "new_list = map(lambda x: x * 2, my_list)\n",
    "new_tuple = (x * 2 for x in my_list)\n",
    "\n",
    "print(new_list)\n",
    "print(new_tuple)"
   ]
  },
  {
   "cell_type": "code",
   "execution_count": 47,
   "metadata": {},
   "outputs": [
    {
     "name": "stdout",
     "output_type": "stream",
     "text": [
      "[2, 4, 6, 8, 10]\n"
     ]
    }
   ],
   "source": [
    "my_list = [1, 2, 3, 4, 5, 6, 7, 8, 10]\n",
    "\n",
    "new_list = filter(lambda x: x % 2 == 0, my_list)\n",
    "new_list = [x for x in my_list if x % 2 == 0]\n",
    "\n",
    "print(new_list)"
   ]
  },
  {
   "cell_type": "code",
   "execution_count": 50,
   "metadata": {},
   "outputs": [
    {
     "name": "stdout",
     "output_type": "stream",
     "text": [
      "{'three': 'four'}\n",
      "{'one': 'two', 'three': 'four'}\n"
     ]
    }
   ],
   "source": [
    "data = [('one', 'two'), ('three', 'four')]\n",
    "\n",
    "my_dict = {k: v for k, v in data if k != 'one'}\n",
    "print(my_dict)\n",
    "my_dict2 = dict(data)\n",
    "print(my_dict2)"
   ]
  },
  {
   "cell_type": "code",
   "execution_count": 54,
   "metadata": {},
   "outputs": [
    {
     "name": "stdout",
     "output_type": "stream",
     "text": [
      "{'USA': 23, 'Hawaii': 33, 'Cuba': 35, 'qwer': -1}\n"
     ]
    }
   ],
   "source": [
    "countries = ['USA', 'Hawaii', 'Cuba', 'qwer']\n",
    "temps = [23, 33, 35, -1]\n",
    "\n",
    "country_temps_dict = dict(zip(countries, temps))\n",
    "\n",
    "print(country_temps_dict)\n",
    "def unzip(dict_):\n",
    "    values = dict_.values()\n",
    "    keys = dict_.keys()\n",
    "    "
   ]
  }
 ],
 "metadata": {
  "kernelspec": {
   "display_name": "Python 3",
   "language": "python",
   "name": "python3"
  },
  "language_info": {
   "codemirror_mode": {
    "name": "ipython",
    "version": 3
   },
   "file_extension": ".py",
   "mimetype": "text/x-python",
   "name": "python",
   "nbconvert_exporter": "python",
   "pygments_lexer": "ipython3",
   "version": "3.10.12"
  },
  "orig_nbformat": 4
 },
 "nbformat": 4,
 "nbformat_minor": 2
}
